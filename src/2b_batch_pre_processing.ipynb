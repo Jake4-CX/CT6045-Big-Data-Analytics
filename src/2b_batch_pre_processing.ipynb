{
 "cells": [
  {
   "cell_type": "markdown",
   "metadata": {},
   "source": [
    "# (2b) Batch processing - Pre Processing"
   ]
  },
  {
   "cell_type": "code",
   "execution_count": 1,
   "metadata": {},
   "outputs": [],
   "source": [
    "import pandas as pd\n",
    "import os"
   ]
  },
  {
   "cell_type": "code",
   "execution_count": 2,
   "metadata": {},
   "outputs": [],
   "source": [
    "# Load the dataset\n",
    "dataset = pd.read_csv(\"../datasets/Dataset-QOE_prediction_ICC2018.csv\")"
   ]
  },
  {
   "cell_type": "code",
   "execution_count": 3,
   "metadata": {},
   "outputs": [],
   "source": [
    "#  Number of batches\n",
    "num_batches = 16\n",
    "\n",
    "# Create a directory for batch files\n",
    "output_dir = '../datasets/batch'\n",
    "os.makedirs(output_dir, exist_ok=True)"
   ]
  },
  {
   "cell_type": "code",
   "execution_count": 4,
   "metadata": {},
   "outputs": [],
   "source": [
    "# Calculate the number of rows per batch\n",
    "rows_per_batch = len(dataset) // num_batches\n",
    "\n",
    "# Split dataset into batches and save as separate file\n",
    "for i in range(num_batches):\n",
    "    start_row = i * rows_per_batch\n",
    "    end_row = start_row + rows_per_batch if i < num_batches - 1 else len(dataset)\n",
    "    batch_df = dataset.iloc[start_row:end_row]\n",
    "    batch_df.to_csv(f'{output_dir}/batch_{i+1}.csv', index=False)"
   ]
  }
 ],
 "metadata": {
  "kernelspec": {
   "display_name": "Python 3",
   "language": "python",
   "name": "python3"
  },
  "language_info": {
   "codemirror_mode": {
    "name": "ipython",
    "version": 3
   },
   "file_extension": ".py",
   "mimetype": "text/x-python",
   "name": "python",
   "nbconvert_exporter": "python",
   "pygments_lexer": "ipython3",
   "version": "3.8.10"
  }
 },
 "nbformat": 4,
 "nbformat_minor": 2
}
