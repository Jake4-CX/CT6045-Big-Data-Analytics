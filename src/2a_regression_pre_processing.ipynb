{
 "cells": [
  {
   "cell_type": "markdown",
   "metadata": {},
   "source": [
    "# (2a) Pre Processing"
   ]
  },
  {
   "cell_type": "code",
   "execution_count": 2,
   "metadata": {},
   "outputs": [],
   "source": [
    "import pandas as pd\n",
    "import numpy as np"
   ]
  },
  {
   "cell_type": "code",
   "execution_count": 3,
   "metadata": {},
   "outputs": [],
   "source": [
    "# Read the dataset\n",
    "dataset = pd.read_csv('../datasets/Dataset-QOE_prediction_ICC2018.csv')"
   ]
  },
  {
   "cell_type": "markdown",
   "metadata": {},
   "source": [
    "## Calculate the correlation (numerical values)"
   ]
  },
  {
   "cell_type": "code",
   "execution_count": 6,
   "metadata": {},
   "outputs": [
    {
     "data": {
      "text/plain": [
       "Stall Events                  1.000000\n",
       "Rebuffering Ratio             0.812969\n",
       "Total Stalling Time           0.812969\n",
       "Avg Time Stalling Events      0.796931\n",
       "Avg Video Buffer Level        0.539351\n",
       "Std Video Buffer Level        0.501127\n",
       "25 Inter Arrival Times Req    0.331816\n",
       "50 Inter Arrival Times Req    0.312500\n",
       "95 Inter Arrival Times Req    0.304746\n",
       "10 Inter Arrival Times Req    0.299526\n",
       "Name: Stall Events, dtype: float64"
      ]
     },
     "execution_count": 6,
     "metadata": {},
     "output_type": "execute_result"
    }
   ],
   "source": [
    "# Finding the correlation between 'Stall Events' and other columns\n",
    "correlation = dataset.corr()['Stall Events']\n",
    "\n",
    "# Sort correlation in descending order\n",
    "sorted_correlation = correlation.abs().sort_values(ascending=False)\n",
    "\n",
    "sorted_correlation.head(10) \n"
   ]
  },
  {
   "cell_type": "markdown",
   "metadata": {},
   "source": [
    "## Convert categorical columns to numerical values"
   ]
  },
  {
   "cell_type": "code",
   "execution_count": 7,
   "metadata": {},
   "outputs": [],
   "source": [
    "from sklearn.preprocessing import LabelEncoder"
   ]
  },
  {
   "cell_type": "code",
   "execution_count": 8,
   "metadata": {},
   "outputs": [],
   "source": [
    "\n",
    "label_encoder = LabelEncoder()\n",
    "\n",
    "# Create copy\n",
    "dataset_copy = dataset.copy()\n",
    "\n",
    "# Identifying categorical columns\n",
    "categorical_columns = dataset_copy.select_dtypes(include=['object']).columns\n",
    "\n",
    "# Applying LabelEncoder to each categorical column\n",
    "for col in categorical_columns:\n",
    "    dataset_copy[col + '_Indexed'] = label_encoder.fit_transform(dataset_copy[col])\n",
    "\n",
    "    # Delete categorical column\n",
    "    dataset_copy = dataset_copy.drop(col, axis=1)"
   ]
  },
  {
   "cell_type": "code",
   "execution_count": 9,
   "metadata": {},
   "outputs": [
    {
     "data": {
      "text/plain": [
       "Bottleneck Packet Loss_Indexed    0.455145\n",
       "Stall Label_Indexed              -0.597892\n",
       "Name: Stall Events, dtype: float64"
      ]
     },
     "execution_count": 9,
     "metadata": {},
     "output_type": "execute_result"
    }
   ],
   "source": [
    "# Finding the correlation between 'Stall Events' and other columns\n",
    "correlation_label_encoded = dataset_copy.corr()['Stall Events']\n",
    "\n",
    "# Sorting and display correlations of the indexed columns\n",
    "correlation_label_encoded[[col + '_Indexed' for col in categorical_columns]].sort_values(ascending=False)"
   ]
  }
 ],
 "metadata": {
  "kernelspec": {
   "display_name": "Python 3",
   "language": "python",
   "name": "python3"
  },
  "language_info": {
   "codemirror_mode": {
    "name": "ipython",
    "version": 3
   },
   "file_extension": ".py",
   "mimetype": "text/x-python",
   "name": "python",
   "nbconvert_exporter": "python",
   "pygments_lexer": "ipython3",
   "version": "3.8.10"
  }
 },
 "nbformat": 4,
 "nbformat_minor": 2
}
