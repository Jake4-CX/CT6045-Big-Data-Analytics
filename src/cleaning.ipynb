{
 "cells": [
  {
   "cell_type": "code",
   "execution_count": null,
   "metadata": {},
   "outputs": [],
   "source": [
    "import pandas as pd\n",
    "import numpy as np"
   ]
  },
  {
   "cell_type": "code",
   "execution_count": null,
   "metadata": {},
   "outputs": [],
   "source": [
    "# Read the dataset\n",
    "dataset = pd.read_csv('../datasets/Dataset-QOE_prediction_ICC2018', sep=\" \")"
   ]
  },
  {
   "cell_type": "code",
   "execution_count": null,
   "metadata": {},
   "outputs": [],
   "source": [
    "# Rename the dataset's columns\n",
    "dataset = dataset.rename(columns={\n",
    "    '#RequestID': 'Request ID',\n",
    "    'NbClients': 'Num Clients',\n",
    "    'BottleneckBW': 'Bottleneck Bandwidth',\n",
    "    'BottleneckDelay': 'Bottleneck Latency',\n",
    "    'BottleneckLoss': 'Bottleneck Packet Loss',\n",
    "    'DASHPolicy': 'Dash Policy',\n",
    "    'ClientResolution': 'Client Resolution',\n",
    "    'RequestDuration': 'Request Duration',\n",
    "    'TCPOutputPacket': 'TCP Output Packet',\n",
    "    'TCPOutputDelay': 'TCP Output Delay',\n",
    "    'TCPOutputJitter': 'TCP Output Jitter',\n",
    "    'TCPOutputPloss': 'TCP Output Packet Loss',\n",
    "    'TCPInputPacket': 'TCP Input Packet',\n",
    "    'TCPInputDelay': 'TCP Input Delay',\n",
    "    'TCPInputJitter': 'TCP Input Jitter',\n",
    "    'TCPInputPloss': 'TCP Input Packet Loss',\n",
    "    'TCPInputRetrans': 'TCP Input Retransmission',\n",
    "    'StdInputRate': 'Std Input Rate',\n",
    "    '0_InputRateVariation': '0 Input Rate Variation',\n",
    "    '5_InputRateVariation': '5 Input Rate Variation',\n",
    "    '10_InputRateVariation': '10 Input Rate Variation',\n",
    "    '25_InputRateVariation': '25 Input Rate Variation',\n",
    "    '50_InputRateVariation': '50 Input Rate Variation',\n",
    "    '75_InputRateVariation': '75 Input Rate Variation',\n",
    "    '90_InputRateVariation': '90 Input Rate Variation',\n",
    "    '95_InputRateVariation': '95 Input Rate Variation',\n",
    "    '100_InputRateVariation': '100 Input Rate Variation',\n",
    "    'StdInterATimesReq': 'Std Inter Arrival Times Req',\n",
    "    '0_InterATimesReq': '0 Inter Arrival Times Req',\n",
    "    '5_InterATimesReq': '5 Inter Arrival Times Req',\n",
    "    '10_InterATimesReq': '10 Inter Arrival Times Req',\n",
    "    '25_InterATimesReq': '25 Inter Arrival Times Req',\n",
    "    '50_InterATimesReq': '50 Inter Arrival Times Req',\n",
    "    '75_InterATimesReq': '75 Inter Arrival Times Req',\n",
    "    '90_InterATimesReq': '90 Inter Arrival Times Req',\n",
    "    '95_InterATimesReq': '95 Inter Arrival Times Req',\n",
    "    '100_InterATimesReq': '100 Inter Arrival Times Req',\n",
    "    'StartUpDelay': 'Start Up Delay',\n",
    "    'AvgDownloadRate': 'Avg Video Download Rate',\n",
    "    'StdDownloadRate': 'Std Video Download Rate',\n",
    "    'AvgBufferLevel': 'Avg Video Buffer Level',\n",
    "    'StdBufferLevel': 'Std Video Buffer Level',\n",
    "    'StallEvents': 'Stall Events',\n",
    "    'RebufferingRatio': 'Rebuffering Ratio',\n",
    "    'StallLabel': 'Stall Label',\n",
    "    'TotalStallingTime': 'Total Stalling Time',\n",
    "    'AvgTimeStallingEvents': 'Avg Time Stalling Events',\n",
    "    'AvgQualityIndex': 'Avg Quality Index',\n",
    "    'AvgVideoBitRate': 'Avg Video Bit Rate',\n",
    "    'AvgVideoQualityVariation': 'Avg Video Quality Variation',\n",
    "    'AvgDownloadBitRate': 'Avg Download Bit Rate'\n",
    "})"
   ]
  },
  {
   "cell_type": "code",
   "execution_count": null,
   "metadata": {},
   "outputs": [],
   "source": [
    "# Export the dataset to a CSV file\n",
    "dataset.to_csv('../datasets/Dataset-QOE_prediction_ICC2018.csv', index=False)"
   ]
  }
 ],
 "metadata": {
  "language_info": {
   "name": "python"
  }
 },
 "nbformat": 4,
 "nbformat_minor": 2
}
