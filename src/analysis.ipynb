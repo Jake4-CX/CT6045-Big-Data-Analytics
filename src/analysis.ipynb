{
 "cells": [
  {
   "cell_type": "markdown",
   "metadata": {},
   "source": [
    "## Analysis"
   ]
  },
  {
   "cell_type": "code",
   "execution_count": 1,
   "metadata": {},
   "outputs": [],
   "source": [
    "import pandas as pd\n",
    "import numpy as np"
   ]
  },
  {
   "cell_type": "code",
   "execution_count": 2,
   "metadata": {},
   "outputs": [],
   "source": [
    "# Read the dataset\n",
    "dataset = pd.read_csv('../datasets/Dataset-QOE_prediction_ICC2018.csv')"
   ]
  },
  {
   "cell_type": "code",
   "execution_count": 3,
   "metadata": {},
   "outputs": [
    {
     "name": "stdout",
     "output_type": "stream",
     "text": [
      "avgQualityIndex: \n",
      " - Low:  0.25\n",
      " - High:  1.0\n",
      " - Mean:  0.6661446972471755\n",
      " - Median:  0.692857\n",
      " - Mode:  0.764286\n",
      " - Standard Deviation:  0.1502637262977313\n",
      " - Variance:  0.022579187440879507\n",
      " - Skewness:  -0.37118888131494615\n",
      "\n",
      "\n",
      "avgBitRate: \n",
      " - Low:  240640.0\n",
      " - High:  5800230.0\n",
      " - Mean:  2007780.692357766\n",
      " - Median:  1322010.0\n",
      " - Mode:  3692690.0\n",
      " - Standard Deviation:  1622712.7716705175\n",
      " - Variance:  2633196739342.6133\n",
      " - Skewness:  0.7402590831363773\n",
      "\n",
      "\n",
      "Correlation between Avg Quality Index and Avg Video Bit Rate:  0.7872729745304735\n",
      "Covariance between Avg Quality Index and Avg Video Bit Rate:  191964.6016530835\n",
      "\n",
      "\n",
      "Correlation between Avg Video Bit Rate and Avg Quality Index:  0.7872729745304735\n",
      "Covariance between Avg Video Bit Rate and Avg Quality Index:  191964.6016530835\n",
      "\n",
      "\n"
     ]
    }
   ],
   "source": [
    "avgQualityIndex = dataset[\"Avg Quality Index\"]\n",
    "print(\"avgQualityIndex: \")\n",
    "print(\" - Low: \", avgQualityIndex.min())\n",
    "print(\" - High: \", avgQualityIndex.max())\n",
    "print(\" - Mean: \", avgQualityIndex.mean())\n",
    "print(\" - Median: \", avgQualityIndex.median())\n",
    "print(\" - Mode: \", avgQualityIndex.mode()[0])\n",
    "print(\" - Standard Deviation: \", avgQualityIndex.std())\n",
    "print(\" - Variance: \", avgQualityIndex.var())\n",
    "print(\" - Skewness: \", avgQualityIndex.skew())\n",
    "\n",
    "print(\"\\n\")\n",
    "\n",
    "avgBitRate = dataset[\"Avg Video Bit Rate\"]\n",
    "print(\"avgBitRate: \")\n",
    "print(\" - Low: \", avgBitRate.min())\n",
    "print(\" - High: \", avgBitRate.max())\n",
    "print(\" - Mean: \", avgBitRate.mean())\n",
    "print(\" - Median: \", avgBitRate.median())\n",
    "print(\" - Mode: \", avgBitRate.mode()[0])\n",
    "print(\" - Standard Deviation: \", avgBitRate.std())\n",
    "print(\" - Variance: \", avgBitRate.var())\n",
    "print(\" - Skewness: \", avgBitRate.skew())\n",
    "\n",
    "print(\"\\n\")\n",
    "print(\"Correlation between Avg Quality Index and Avg Video Bit Rate: \", avgQualityIndex.corr(avgBitRate))\n",
    "print(\"Covariance between Avg Quality Index and Avg Video Bit Rate: \", avgQualityIndex.cov(avgBitRate))\n",
    "print(\"\\n\")\n",
    "print(\"Correlation between Avg Video Bit Rate and Avg Quality Index: \", avgBitRate.corr(avgQualityIndex))\n",
    "print(\"Covariance between Avg Video Bit Rate and Avg Quality Index: \", avgBitRate.cov(avgQualityIndex))\n",
    "\n",
    "print(\"\\n\")"
   ]
  },
  {
   "cell_type": "code",
   "execution_count": 4,
   "metadata": {},
   "outputs": [
    {
     "name": "stdout",
     "output_type": "stream",
     "text": [
      "avgBitRate: \n",
      " - Low:  0\n",
      " - High:  19\n",
      " - Mean:  0.5720175324393525\n",
      " - Median:  0.0\n",
      " - Mode:  0\n",
      " - Standard Deviation:  1.2238097074841223\n",
      " - Variance:  1.497710200132373\n",
      " - Skewness:  2.941022140072548\n"
     ]
    }
   ],
   "source": [
    "avgBitRate = dataset[\"Stall Events\"]\n",
    "print(\"avgBitRate: \")\n",
    "print(\" - Low: \", avgBitRate.min())\n",
    "print(\" - High: \", avgBitRate.max())\n",
    "print(\" - Mean: \", avgBitRate.mean())\n",
    "print(\" - Median: \", avgBitRate.median())\n",
    "print(\" - Mode: \", avgBitRate.mode()[0])\n",
    "print(\" - Standard Deviation: \", avgBitRate.std())\n",
    "print(\" - Variance: \", avgBitRate.var())\n",
    "print(\" - Skewness: \", avgBitRate.skew())"
   ]
  }
 ],
 "metadata": {
  "kernelspec": {
   "display_name": "Python 3",
   "language": "python",
   "name": "python3"
  },
  "language_info": {
   "codemirror_mode": {
    "name": "ipython",
    "version": 3
   },
   "file_extension": ".py",
   "mimetype": "text/x-python",
   "name": "python",
   "nbconvert_exporter": "python",
   "pygments_lexer": "ipython3",
   "version": "3.8.10"
  }
 },
 "nbformat": 4,
 "nbformat_minor": 2
}
