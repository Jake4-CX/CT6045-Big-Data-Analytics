{
 "cells": [
  {
   "cell_type": "markdown",
   "metadata": {},
   "source": [
    "## Importing dependencies"
   ]
  },
  {
   "cell_type": "code",
   "execution_count": 1,
   "metadata": {},
   "outputs": [],
   "source": [
    "import pandas as pd\n",
    "import numpy as np"
   ]
  },
  {
   "cell_type": "markdown",
   "metadata": {},
   "source": [
    "## Reading and cleaning the dataset"
   ]
  },
  {
   "cell_type": "code",
   "execution_count": 30,
   "metadata": {},
   "outputs": [],
   "source": [
    "dataset = pd.read_csv('../datasets/Dataset-QOE_prediction_ICC2018', sep=\" \")\n",
    "dataset = dataset.rename(columns={\n",
    "    '#RequestID': 'RequestID',\n",
    "    'NbClients': 'NumClients',\n",
    "    'BottleneckBW': 'BottleneckBandwidth',\n",
    "    'BottleneckDelay': 'BottleneckLatency',\n",
    "    'BottleneckLoss': 'BottleneckPacketLoss',\n",
    "    'DASHPolicy': 'DashPolicy',\n",
    "    'ClientResolution': 'Client Resolution',\n",
    "    'RequestDuration': 'Request Duration',\n",
    "    'TCPOutputPacket': 'TCP Output Packet',\n",
    "    'TCPOutputDelay': 'TCP Output Delay',\n",
    "    'TCPOutputJitter': 'TCP Output Jitter',\n",
    "    'TCPOutputPloss': 'TCP Output Packet Loss',\n",
    "    'TCPInputPacket': 'TCP Input Packet',\n",
    "    'TCPInputDelay': 'TCP Input Delay',\n",
    "    'TCPInputJitter': 'TCP Input Jitter',\n",
    "    'TCPInputPloss': 'TCP Input Packet Loss',\n",
    "    'TCPInputRetrans': 'TCP Input Retransmission',\n",
    "    'StdInputRate': 'Std Input Rate',\n",
    "    '0_InputRateVariation': '0 Input Rate Variation',\n",
    "    '5_InputRateVariation': '5 Input Rate Variation',\n",
    "    '10_InputRateVariation': '10 Input Rate Variation',\n",
    "    '25_InputRateVariation': '25 Input Rate Variation',\n",
    "    '50_InputRateVariation': '50 Input Rate Variation',\n",
    "    '75_InputRateVariation': '75 Input Rate Variation',\n",
    "    '95_InputRateVariation': '95 Input Rate Variation',\n",
    "    '100_InputRateVariation': '100 Input Rate Variation',\n",
    "    'StdInterATimesReq': 'Std Inter Arrival Times Req',\n",
    "    '0_InterATimesReq': '0 Inter Arrival Times Req',\n",
    "    '5_InterATimesReq': '5 Inter Arrival Times Req',\n",
    "    '10_InterATimesReq': '10 Inter Arrival Times Req',\n",
    "    '25_InterATimesReq': '25 Inter Arrival Times Req',\n",
    "    '50_InterATimesReq': '50 Inter Arrival Times Req',\n",
    "    '75_InterATimesReq': '75 Inter Arrival Times Req',\n",
    "    '95_InterATimesReq': '95 Inter Arrival Times Req',\n",
    "    '100_InterATimesReq': '100 Inter Arrival Times Req',\n",
    "    'StartUpDelay': 'Start Up Delay',\n",
    "    'StdDownloadRate': 'Std Download Rate',\n",
    "    'AvgBufferLevel': 'Avg Buffer Level',\n",
    "    'StdBufferLevel': 'Std Buffer Level',\n",
    "    'StallEvents': 'Stall Events',\n",
    "    'RebufferingRatio': 'Rebuffering Ratio',\n",
    "    'StallLabel': 'Stall Label',\n",
    "    'AvgTimeStallingEvents': 'Avg Time Stalling Events',\n",
    "    'AvgQualityIndex': 'Avg Quality Index',\n",
    "    'AvgVideoBitRate': 'Avg Video Bit Rate',\n",
    "    'AvgVideoQualityVariation': 'Avg Video Quality Variation',\n",
    "    'AvgDownloadBitRate': 'Avg Download Bit Rate'\n",
    "})\n",
    "\n",
    "# Select only the allowed columns - that will be focused on\n",
    "# allowedColumns = [\"RequestID\", \"NumClients\", \"BottleneckBandwidth\", \"BottleneckLatency\", \"BottleneckPacketLoss\", \"DashPolicy\", \"Client Resolution\"]\n",
    "# dataset = dataset[allowedColumns]\n",
    "\n",
    "dataset.head()\n",
    "# dataset.to_csv('../datasets/Dataset-QOE_prediction_ICC2018.csv', index=False)\n"
   ]
  },
  {
   "cell_type": "code",
   "execution_count": 42,
   "metadata": {},
   "outputs": [
    {
     "name": "stdout",
     "output_type": "stream",
     "text": [
      "RequestID                          0\n",
      "NumClients                         0\n",
      "BottleneckBandwidth                0\n",
      "BottleneckLatency                  0\n",
      "BottleneckPacketLoss               0\n",
      "DashPolicy                         0\n",
      "Client Resolution                  0\n",
      "Request Duration                   0\n",
      "TCP Output Packet                  0\n",
      "TCP Output Delay                   0\n",
      "TCP Output Jitter                  0\n",
      "TCP Output Packet Loss             0\n",
      "TCP Input Packet                   0\n",
      "TCP Input Delay                    0\n",
      "TCP Input Jitter                   0\n",
      "TCP Input Packet Loss              0\n",
      "TCP Input Retransmission           0\n",
      "Std Input Rate                 69129\n",
      "0 Input Rate Variation             0\n",
      "5 Input Rate Variation             0\n",
      "10 Input Rate Variation            0\n",
      "25 Input Rate Variation            0\n",
      "50 Input Rate Variation            0\n",
      "75 Input Rate Variation            0\n",
      "90_InputRateVariation              0\n",
      "95 Input Rate Variation            0\n",
      "100 Input Rate Variation           0\n",
      "Std Inter Arrival Times Req        0\n",
      "0 Inter Arrival Times Req          0\n",
      "5 Inter Arrival Times Req          0\n",
      "10 Inter Arrival Times Req         0\n",
      "25 Inter Arrival Times Req         0\n",
      "50 Inter Arrival Times Req         0\n",
      "75 Inter Arrival Times Req         0\n",
      "90_InterATimesReq                  0\n",
      "95 Inter Arrival Times Req         0\n",
      "100 Inter Arrival Times Req        0\n",
      "Start Up Delay                     0\n",
      "AvgDownloadRate                    0\n",
      "Std Download Rate                  0\n",
      "Avg Buffer Level                   0\n",
      "Std Buffer Level                   0\n",
      "Stall Events                       0\n",
      "Rebuffering Ratio                  0\n",
      "Stall Label                        0\n",
      "TotalStallingTime                  0\n",
      "Avg Time Stalling Events           0\n",
      "Avg Quality Index                  0\n",
      "Avg Video Bit Rate                 0\n",
      "Avg Video Quality Variation        0\n",
      "Avg Download Bit Rate              0\n",
      "dtype: int64\n"
     ]
    }
   ],
   "source": [
    "# Check for missing values\n",
    "print(dataset.isnull().sum())\n",
    "\n",
    "# Statistical summary\n",
    "# print(dataset.describe())\n",
    "\n",
    "# # # Data types\n",
    "# print(dataset.dtypes)"
   ]
  }
 ],
 "metadata": {
  "kernelspec": {
   "display_name": "Python 3",
   "language": "python",
   "name": "python3"
  },
  "language_info": {
   "codemirror_mode": {
    "name": "ipython",
    "version": 3
   },
   "file_extension": ".py",
   "mimetype": "text/x-python",
   "name": "python",
   "nbconvert_exporter": "python",
   "pygments_lexer": "ipython3",
   "version": "3.8.10"
  }
 },
 "nbformat": 4,
 "nbformat_minor": 2
}
